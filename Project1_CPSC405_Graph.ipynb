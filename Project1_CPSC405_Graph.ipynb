{
 "cells": [
  {
   "cell_type": "code",
   "execution_count": 63,
   "metadata": {
    "scrolled": false
   },
   "outputs": [
    {
     "name": "stdout",
     "output_type": "stream",
     "text": [
      "Loading Data...\n",
      "First few data points\n",
      "   sqft  bedrooms   price\n",
      "0  2104         3  399900\n",
      "1  1600         3  329900\n",
      "2  2400         3  369000\n",
      "3  1416         2  232000\n",
      "4  3000         4  539900\n",
      "Normalizing Features...\n",
      "sqft        2000.680851\n",
      "bedrooms       3.170213\n",
      "dtype: float64\n",
      "sqft        794.702354\n",
      "bedrooms      0.760982\n",
      "dtype: float64\n",
      "First few data points after normalization\n",
      "       sqft  bedrooms\n",
      "0  0.130010 -0.223675\n",
      "1 -0.504190 -0.223675\n",
      "2  0.502476 -0.223675\n",
      "3 -0.735723 -1.537767\n",
      "4  1.257476  1.090417\n"
     ]
    },
    {
     "data": {
      "image/png": "[encoded data removed]",
      "text/plain": [
       "<Figure size 432x288 with 1 Axes>"
      ]
     },
     "metadata": {
      "needs_background": "light"
     },
     "output_type": "display_data"
    },
    {
     "name": "stdout",
     "output_type": "stream",
     "text": [
      "Theta computed from gradient descent: \n",
      "\n",
      "[334302.06399328 100087.11600585   3673.54845093]\n",
      "\n",
      "\n",
      "Predicted price of a 1650 sq-ft, 3 br house (using gradient descent):\n",
      "\n",
      "289314.6203377763\n",
      "\n",
      "\n"
     ]
    }
   ],
   "source": [
    "import numpy as np\n",
    "import pandas as pd\n",
    "import matplotlib.pyplot as plt\n",
    "\n",
    "print(\"Loading Data...\")\n",
    "housingData = pd.read_csv(r\"C:\\Users\\micha\\Downloads\\Housing_data.txt\", names = ['sqft', 'bedrooms', 'price'])\n",
    "\n",
    "#splits data appropriately and creates a size variable for the dataset\n",
    "X = housingData[['sqft','bedrooms']]\n",
    "Y = housingData['price']\n",
    "m = np.size(Y, axis=0)\n",
    "\n",
    "print(\"First few data points\")\n",
    "print(housingData.head())\n",
    "\n",
    "#Normalization\n",
    "print(\"Normalizing Features...\")\n",
    "mu = X.mean()\n",
    "std = X.std()\n",
    "\n",
    "print(mu)\n",
    "print(std)\n",
    "\n",
    "X = (X - mu) / std\n",
    "\n",
    "print(\"First few data points after normalization\")\n",
    "print(X.head())\n",
    "\n",
    "#Inserts the single column matrix of ones to the start of X\n",
    "X.insert(0, \"Intercepts\", np.ones(m))\n",
    "\n",
    "#Initializes variables & matrices for calculation\n",
    "alpha = 0.01\n",
    "num_iters = 400\n",
    "theta = np.zeros((3,))\n",
    "\n",
    "J_history = np.zeros((num_iters,))\n",
    "\n",
    "xt = X.transpose()\n",
    "\n",
    "#Gradient Descent algorithm done on each row\n",
    "for i in range (num_iters):\n",
    "    theta = theta - (alpha / m) * np.dot(xt, (np.dot(X, theta) - Y))\n",
    "    \n",
    "    #print(theta) Ignore this, was used for testing\n",
    "    \n",
    "    #J_History / Cost Function calculations\n",
    "    predictions = X.dot(theta)\n",
    "    sqErrors = (predictions - Y) ** 2\n",
    "    J_history[i] = (1.0 /(2 * m)) * sqErrors.sum()\n",
    "    \n",
    "    #print(J_history[i]) Ignore this, was used for testing\n",
    "    \n",
    "#Graphing\n",
    "plt.plot(J_history)\n",
    "plt.xlabel('Number of iterations')\n",
    "plt.ylabel('Cost J')\n",
    "plt.show()\n",
    "\n",
    "print(\"Theta computed from gradient descent: \\n\")\n",
    "print(theta)\n",
    "print('\\n')\n",
    "\n",
    "#Estimate the price of a 1650 sq-ft, 3 br house\n",
    "\n",
    "price = 0\n",
    "n_sf=(1650-mu[0])/std[0]\n",
    "n_b=(3-mu[1])/std[1]\n",
    "\n",
    "price=np.dot(theta,[1, n_sf, n_b])\n",
    "\n",
    "print(\"Predicted price of a 1650 sq-ft, 3 br house (using gradient descent):\\n\")\n",
    "print(price)\n",
    "print(\"\\n\")"
   ]
  },
  {
   "cell_type": "code",
   "execution_count": null,
   "metadata": {},
   "outputs": [],
   "source": []
  },
  {
   "cell_type": "code",
   "execution_count": null,
   "metadata": {},
   "outputs": [],
   "source": []
  },
  {
   "cell_type": "code",
   "execution_count": null,
   "metadata": {},
   "outputs": [],
   "source": []
  },
  {
   "cell_type": "code",
   "execution_count": null,
   "metadata": {},
   "outputs": [],
   "source": []
  }
 ],
 "metadata": {
  "kernelspec": {
   "display_name": "Python 3",
   "language": "python",
   "name": "python3"
  },
  "language_info": {
   "codemirror_mode": {
    "name": "ipython",
    "version": 3
   },
   "file_extension": ".py",
   "mimetype": "text/x-python",
   "name": "python",
   "nbconvert_exporter": "python",
   "pygments_lexer": "ipython3",
   "version": "3.8.3"
  }
 },
 "nbformat": 4,
 "nbformat_minor": 4
}
