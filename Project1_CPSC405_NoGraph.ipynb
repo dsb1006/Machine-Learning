{
 "cells": [
  {
   "cell_type": "code",
   "execution_count": 27,
   "metadata": {},
   "outputs": [
    {
     "name": "stdout",
     "output_type": "stream",
     "text": [
      "Loading Data...\n",
      "First few data points\n",
      "   sqft  bedrooms   price\n",
      "0  2104         3  399900\n",
      "1  1600         3  329900\n",
      "2  2400         3  369000\n",
      "3  1416         2  232000\n",
      "4  3000         4  539900\n",
      "Normalizing Features...\n",
      "sqft        2000.680851\n",
      "bedrooms       3.170213\n",
      "dtype: float64\n",
      "sqft        794.702354\n",
      "bedrooms      0.760982\n",
      "dtype: float64\n",
      "First few data points after normalization\n",
      "       sqft  bedrooms\n",
      "0  0.130010 -0.223675\n",
      "1 -0.504190 -0.223675\n",
      "2  0.502476 -0.223675\n",
      "3 -0.735723 -1.537767\n",
      "4  1.257476  1.090417\n",
      "[334302.06399328 100087.11600585   3673.54845093]\n"
     ]
    }
   ],
   "source": [
    "import numpy as np\n",
    "import pandas as pd\n",
    "\n",
    "print(\"Loading Data...\")\n",
    "housingData = pd.read_csv(r\"C:\\Users\\drago\\Desktop\\Machine Learn P1\\Housing_data.txt\", names = ['sqft', 'bedrooms', 'price'])\n",
    "\n",
    "#splits data appropriately and creates a size variable for the dataset\n",
    "X = housingData[['sqft','bedrooms']]\n",
    "Y = housingData['price']\n",
    "m = np.size(Y, axis=0)\n",
    "\n",
    "print(\"First few data points\")\n",
    "print(housingData.head())\n",
    "\n",
    "#Normalization\n",
    "print(\"Normalizing Features...\")\n",
    "mu = X.mean()\n",
    "std = X.std()\n",
    "\n",
    "print(mu)\n",
    "print(std)\n",
    "\n",
    "X = (X - mu) / std\n",
    "\n",
    "print(\"First few data points after normalization\")\n",
    "print(X.head())\n",
    "\n",
    "#Inserts the single column matrix of ones to the start of X\n",
    "X.insert(0, \"Intercepts\", np.ones(m))\n",
    "\n",
    "#Initializes variables & matrices for calculation\n",
    "alpha = 0.01\n",
    "num_iters = 400\n",
    "theta = np.zeros((3,))\n",
    "\n",
    "J_history = np.zeros((num_iters, 1))\n",
    "\n",
    "xt = X.transpose()\n",
    "\n",
    "#Gradient Descent algorithm done on each row\n",
    "for i in range (num_iters):\n",
    "    theta = theta - (alpha / m) * np.dot(xt, (np.dot(X, theta) - Y))\n",
    "print(theta)    "
   ]
  },
  {
   "cell_type": "code",
   "execution_count": null,
   "metadata": {},
   "outputs": [],
   "source": []
  },
  {
   "cell_type": "code",
   "execution_count": null,
   "metadata": {},
   "outputs": [],
   "source": []
  },
  {
   "cell_type": "code",
   "execution_count": null,
   "metadata": {},
   "outputs": [],
   "source": []
  },
  {
   "cell_type": "code",
   "execution_count": null,
   "metadata": {},
   "outputs": [],
   "source": []
  }
 ],
 "metadata": {
  "kernelspec": {
   "display_name": "Python 3",
   "language": "python",
   "name": "python3"
  },
  "language_info": {
   "codemirror_mode": {
    "name": "ipython",
    "version": 3
   },
   "file_extension": ".py",
   "mimetype": "text/x-python",
   "name": "python",
   "nbconvert_exporter": "python",
   "pygments_lexer": "ipython3",
   "version": "3.8.3"
  }
 },
 "nbformat": 4,
 "nbformat_minor": 4
}
