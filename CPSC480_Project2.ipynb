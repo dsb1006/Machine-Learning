{
 "cells": [
  {
   "cell_type": "code",
   "execution_count": 22,
   "metadata": {},
   "outputs": [
    {
     "name": "stdout",
     "output_type": "stream",
     "text": [
      "Index(['Rating', 'Reviews', 'Book_title', 'Description', 'Number_Of_Pages',\n",
      "       'Type', 'Price'],\n",
      "      dtype='object')\n",
      "       Price\n",
      "0   9.323529\n",
      "1  11.000000\n",
      "2  11.267647\n",
      "3  12.873529\n",
      "4  13.164706\n",
      "          Price\n",
      "266  203.108823\n",
      "267  212.097059\n",
      "268  220.385294\n",
      "269  220.385294\n",
      "270  235.650000\n",
      "             Type\n",
      "0       Hardcover\n",
      "1       Hardcover\n",
      "2  Kindle Edition\n",
      "3       Hardcover\n",
      "4  Kindle Edition\n",
      "                      Type\n",
      "266              Hardcover\n",
      "267              Paperback\n",
      "268  Boxed Set - Hardcover\n",
      "269              Hardcover\n",
      "270              Hardcover\n",
      "               Type\n",
      "269       Hardcover\n",
      "27        Paperback\n",
      "230       Hardcover\n",
      "2    Kindle Edition\n",
      "104  Kindle Edition\n",
      "..              ...\n",
      "36        Hardcover\n",
      "12        Paperback\n",
      "29        Paperback\n",
      "248       Hardcover\n",
      "152       Paperback\n",
      "\n",
      "[82 rows x 1 columns]\n",
      "The accuracy score for predicting the type of book from price is: \n",
      "0.6585365853658537\n",
      "Predicted type with a price of  203\n",
      "['Hardcover']\n"
     ]
    },
    {
     "name": "stderr",
     "output_type": "stream",
     "text": [
      "C:\\Users\\drago\\anaconda3\\lib\\site-packages\\sklearn\\utils\\validation.py:73: DataConversionWarning: A column-vector y was passed when a 1d array was expected. Please change the shape of y to (n_samples, ), for example using ravel().\n",
      "  return f(**kwargs)\n",
      "C:\\Users\\drago\\anaconda3\\lib\\site-packages\\sklearn\\linear_model\\_logistic.py:762: ConvergenceWarning: lbfgs failed to converge (status=1):\n",
      "STOP: TOTAL NO. of ITERATIONS REACHED LIMIT.\n",
      "\n",
      "Increase the number of iterations (max_iter) or scale the data as shown in:\n",
      "    https://scikit-learn.org/stable/modules/preprocessing.html\n",
      "Please also refer to the documentation for alternative solver options:\n",
      "    https://scikit-learn.org/stable/modules/linear_model.html#logistic-regression\n",
      "  n_iter_i = _check_optimize_result(\n"
     ]
    }
   ],
   "source": [
    "import numpy as np\n",
    "import pandas as pd\n",
    "import matplotlib.pyplot as plt\n",
    "from sklearn.model_selection import train_test_split\n",
    "from sklearn.linear_model import LogisticRegression\n",
    "\n",
    "df = pd.read_csv(r\"C:\\Users\\drago\\Desktop\\CPSC 480\\Machine_Learn_P2\\prog_book.csv\")\n",
    "df.head()\n",
    "\n",
    "#Checks Column Names\n",
    "print(df.columns)\n",
    "\n",
    "#Splits data appropriately\n",
    "X = df[['Price']]\n",
    "Y = df[['Type']]\n",
    "\n",
    "#First and last few data points\n",
    "print(X.head())\n",
    "print(X.tail())\n",
    "print(Y.head())\n",
    "print(Y.tail())\n",
    "\n",
    "#Runs logstic Regression\n",
    "x_train, x_test, y_train, y_test = train_test_split(X,Y, train_size=0.7)\n",
    "\n",
    "model = LogisticRegression()\n",
    "\n",
    "#Fits data to the training dataset\n",
    "model.fit(x_train, y_train)\n",
    "\n",
    "#prints test dataset for Y\n",
    "print(y_test)\n",
    "\n",
    "pred = model.predict(x_test)\n",
    "np.where(pred == 1)\n",
    "\n",
    "#Determining accuracy\n",
    "print(\"The accuracy score for predicting the type of book from price is: \")\n",
    "print(model.score(x_test, y_test))\n",
    "\n",
    "#Testing, data entry 266\n",
    "testPrice = 203\n",
    "\n",
    "pred = model.predict([[testPrice]])\n",
    "print(\"Predicted type with a price of \",testPrice )\n",
    "print(pred)"
   ]
  },
  {
   "cell_type": "code",
   "execution_count": null,
   "metadata": {},
   "outputs": [],
   "source": []
  },
  {
   "cell_type": "code",
   "execution_count": null,
   "metadata": {},
   "outputs": [],
   "source": []
  },
  {
   "cell_type": "code",
   "execution_count": null,
   "metadata": {},
   "outputs": [],
   "source": []
  },
  {
   "cell_type": "code",
   "execution_count": null,
   "metadata": {},
   "outputs": [],
   "source": []
  }
 ],
 "metadata": {
  "kernelspec": {
   "display_name": "Python 3",
   "language": "python",
   "name": "python3"
  },
  "language_info": {
   "codemirror_mode": {
    "name": "ipython",
    "version": 3
   },
   "file_extension": ".py",
   "mimetype": "text/x-python",
   "name": "python",
   "nbconvert_exporter": "python",
   "pygments_lexer": "ipython3",
   "version": "3.8.3"
  }
 },
 "nbformat": 4,
 "nbformat_minor": 4
}
