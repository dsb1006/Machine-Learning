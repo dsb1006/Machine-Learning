{
 "cells": [
  {
   "cell_type": "code",
   "execution_count": 83,
   "metadata": {},
   "outputs": [
    {
     "name": "stdout",
     "output_type": "stream",
     "text": [
      "Index(['Rating', 'Reviews', 'Book_title', 'Description', 'Number_Of_Pages',\n",
      "       'Type', 'Price'],\n",
      "      dtype='object')\n",
      "   Rating      Price\n",
      "0    4.17   9.323529\n",
      "1    4.01  11.000000\n",
      "2    3.33  11.267647\n",
      "3    3.97  12.873529\n",
      "4    4.06  13.164706\n",
      "   Number_Of_Pages\n",
      "0              105\n",
      "1              527\n",
      "2               50\n",
      "3              393\n",
      "4              305\n",
      "     Number_Of_Pages\n",
      "128              264\n",
      "89               352\n",
      "143              288\n",
      "87               376\n",
      "110              304\n",
      "..               ...\n",
      "218              560\n",
      "266              752\n",
      "62               328\n",
      "165              448\n",
      "84               256\n",
      "\n",
      "[82 rows x 1 columns]\n",
      "The accuracy score for predicting page numbers from price and review #s is: \n",
      "0.036585365853658534\n",
      "Predicted page numbers with 4.17 Reviews and cost of $ 9.32\n",
      "[352]\n"
     ]
    },
    {
     "name": "stderr",
     "output_type": "stream",
     "text": [
      "C:\\Users\\drago\\anaconda3\\lib\\site-packages\\sklearn\\utils\\validation.py:73: DataConversionWarning: A column-vector y was passed when a 1d array was expected. Please change the shape of y to (n_samples, ), for example using ravel().\n",
      "  return f(**kwargs)\n",
      "C:\\Users\\drago\\anaconda3\\lib\\site-packages\\sklearn\\linear_model\\_logistic.py:762: ConvergenceWarning: lbfgs failed to converge (status=1):\n",
      "STOP: TOTAL NO. of ITERATIONS REACHED LIMIT.\n",
      "\n",
      "Increase the number of iterations (max_iter) or scale the data as shown in:\n",
      "    https://scikit-learn.org/stable/modules/preprocessing.html\n",
      "Please also refer to the documentation for alternative solver options:\n",
      "    https://scikit-learn.org/stable/modules/linear_model.html#logistic-regression\n",
      "  n_iter_i = _check_optimize_result(\n"
     ]
    }
   ],
   "source": [
    "import numpy as np\n",
    "import pandas as pd\n",
    "import matplotlib.pyplot as plt\n",
    "from sklearn.model_selection import train_test_split\n",
    "from sklearn.linear_model import LogisticRegression\n",
    "\n",
    "df = pd.read_csv(r\"C:\\Users\\drago\\Desktop\\MachineLearn\\Machine_Learn_P2\\prog_book.csv\")\n",
    "df.head()\n",
    "\n",
    "#Checks Column Names\n",
    "print(df.columns)\n",
    "\n",
    "#Splits data appropriately\n",
    "X = df[['Rating', 'Price']]\n",
    "Y = df[['Number_Of_Pages']]\n",
    "\n",
    "#First few data points\n",
    "print(X.head())\n",
    "print(Y.head())\n",
    "\n",
    "#Runs logstic Regression\n",
    "x_train, x_test, y_train, y_test = train_test_split(X,Y, train_size=0.7)\n",
    "\n",
    "model = LogisticRegression()\n",
    "\n",
    "#Fits data to the training dataset\n",
    "model.fit(x_train, y_train)\n",
    "\n",
    "#prints test dataset for Y\n",
    "print(y_test)\n",
    "\n",
    "pred = model.predict(x_test)\n",
    "np.where(pred == 1)\n",
    "\n",
    "#Determining accuracy\n",
    "print(\"The accuracy score for predicting page numbers from price and review #s is: \")\n",
    "print(model.score(x_test, y_test))\n",
    "\n",
    "#Testing\n",
    "testRating = 4.17\n",
    "testPrice = 9.32\n",
    "\n",
    "pred = model.predict([[testRating, testPrice]])\n",
    "print(\"Predicted page numbers with\", testRating, \"Reviews and cost of $\",testPrice )\n",
    "print(pred)"
   ]
  },
  {
   "cell_type": "code",
   "execution_count": null,
   "metadata": {},
   "outputs": [],
   "source": []
  },
  {
   "cell_type": "code",
   "execution_count": null,
   "metadata": {},
   "outputs": [],
   "source": []
  },
  {
   "cell_type": "code",
   "execution_count": null,
   "metadata": {},
   "outputs": [],
   "source": []
  },
  {
   "cell_type": "code",
   "execution_count": null,
   "metadata": {},
   "outputs": [],
   "source": []
  }
 ],
 "metadata": {
  "kernelspec": {
   "display_name": "Python 3",
   "language": "python",
   "name": "python3"
  },
  "language_info": {
   "codemirror_mode": {
    "name": "ipython",
    "version": 3
   },
   "file_extension": ".py",
   "mimetype": "text/x-python",
   "name": "python",
   "nbconvert_exporter": "python",
   "pygments_lexer": "ipython3",
   "version": "3.8.3"
  }
 },
 "nbformat": 4,
 "nbformat_minor": 4
}
